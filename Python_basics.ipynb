{
  "nbformat": 4,
  "nbformat_minor": 0,
  "metadata": {
    "colab": {
      "provenance": []
    },
    "kernelspec": {
      "name": "python3",
      "display_name": "Python 3"
    },
    "language_info": {
      "name": "python"
    }
  },
  "cells": [
    {
      "cell_type": "markdown",
      "source": [
        "PYTHON BASIC QUESTIONS (THEORY)"
      ],
      "metadata": {
        "id": "oAOqQD5iT6CZ"
      }
    },
    {
      "cell_type": "markdown",
      "source": [
        "1. What is Python, and why is it popular\n",
        "- Python is a versatile, high-level, interpreted programming language known for its readability and ease of use.  It's popular due to its simple syntax, extensive libraries, and adaptability to various fields like web development, data science, and machine learning, job market demand making it a valuable skill for career growth.\n",
        "\n",
        "2. What is an interpreter in Python\n",
        "- In Python, an interpreter is a program that reads and executes Python code line by line, without requiring it to be compiled into machine code beforehand. It translates each high-level statement into lower-level instructions that the computer can understand and run.\n",
        "\n",
        "3. What are pre-defined keywords in Python\n",
        "- Keywords are predefined, reserved words used in Python programming that have special meanings to the compiler. We cannot use a keyword as a variable name, function name, or any other identifier. They are used to define the syntax and structure of the Python language.\n",
        "\n",
        "4. Can keywords be used as variable names\n",
        "- Keywords define the language's syntax rules and structure, and they cannot be used as variable names. Programmers generally choose names for their variables that are meaningful to the human readers of the program to remember what the variable is used for.\n",
        "\n",
        "5. What is mutability in Python\n",
        "- In Python, mutability refers to whether the value of an object can be changed after it has been created. Mutable objects can be modified in place, while immutable objects cannot.\n",
        "\n",
        "6. Why are lists mutable, but tuples are immutable\n",
        "- Lists are mutable in Python because they are designed for dynamic, changeable collections where elements can be added, removed, or modified—making them ideal for tasks that require flexibility. Tuples, on the other hand, are immutable by design to ensure data integrity, allow usage as dictionary keys or set elements (which require hashable types), and enable certain performance optimizations. This distinction supports different use cases: lists for changeable sequences and tuples for fixed, reliable groupings of data.\n",
        "\n",
        "7. What is the difference between “==” and “is” operators in Python\n",
        "- The == and is operators in Python serve different purposes, although both are used for comparisons.\n",
        "\n",
        " (Equality Operator)\n",
        "-Checks if the values of two objects are equal.\n",
        "-It compares the content or data held by the objects.\n",
        "-Returns True if the values are equal, False otherwise.\n",
        "\n",
        " is (Identity Operator)\n",
        "-Checks if two variables refer to the same object in memory.\n",
        "-It compares the memory locations or references of the objects.\n",
        "-Returns True if the variables point to the same object, False otherwise.\n",
        "\n",
        "8. What are logical operators in Python\n",
        "- Logical operators in Python are used to combine or modify boolean expressions, resulting in a boolean outcome (True or False). Python has three main logical operators:\n",
        "\n",
        "and: Returns True if both operands are True, otherwise returns False.\n",
        "\n",
        "or: Returns True if at least one of the operands is True, otherwise returns False.\n",
        "\n",
        "not: Returns True if the operand is False, and False if the operand is True. It essentially reverses the boolean value.\n",
        "\n",
        "9. What is type casting in Python\n",
        "- Type casting, also known as type conversion, is the process of converting one data type into another. Ex: you want to change the data type of a variable from an integer 2 to a float 2.0. This is a case where you'd use type casting.\n",
        "\n",
        "10. What is the difference between implicit and explicit type casting\n",
        "- Implicit Type Casting (also called type promotion) is done automatically by the compiler when a smaller or less precise data type (like int) is converted to a larger or more precise one (like float or double). It's safe and doesn’t require user intervention because there’s minimal risk of data loss.\n",
        "\n",
        "- Explicit Type Casting (also called type conversion) is done manually by the programmer using a cast operator (e.g., (int), (float)), often when converting from a larger type to a smaller one, or between incompatible types. This can lead to data loss or truncation, so it requires careful use.\n",
        "\n",
        "11. What is the purpose of conditional statements in Python\n",
        "- The purpose of conditional statements in Python is to allow a program to make decisions and execute different blocks of code based on whether a certain condition is True or False. They enable control over the program’s flow, allowing it to respond to different inputs or situations using if, elif, and else statements. This helps make programs more dynamic, interactive, and logical by executing code only when specific criteria are met.\n",
        "\n",
        "12.  How does the elif statement work\n",
        "- The elif (short for else if) statement in Python is used to check multiple conditions after an initial if condition. It only runs if the if condition is False, and its own condition is True. You can use multiple elif statements to test several different possibilities. If none of the if or elif conditions are True, the else block (if present) will run as a fallback.\n",
        "\n",
        "13. What is the difference between for and while loops\n",
        "- The primary difference between for and while loops lies in their purpose and the nature of their execution. for loops are typically used when you know how many times you want to iterate or when you need to process each element of a sequence, while while loops are used when you want to repeat a block of code until a certain condition is met, which may not be a predetermined number of times.\n",
        "\n",
        "14. Describe a scenario where a while loop is more suitable than a for loop.\n",
        "- A while loop is more suitable than a for loop when the number of iterations is not known in advance and the loop should continue running until a certain condition is no longer true.\n",
        "\n",
        "Example Scenario:\n",
        "Suppose you're building a simple login system that keeps asking the user for a password until they enter the correct one. Since you don't know how many attempts the user will need, a while loop is ideal.\n",
        "\n"
      ],
      "metadata": {
        "id": "tK6bCZbwKOi9"
      }
    },
    {
      "cell_type": "markdown",
      "source": [
        "PRACTICAL QUESTIONS"
      ],
      "metadata": {
        "id": "_jFrJyGOUpqZ"
      }
    },
    {
      "cell_type": "code",
      "source": [
        "## 1. Write a Python program to print \"Hello, World!\n",
        "\n",
        "print(\"hello world!\")\n"
      ],
      "metadata": {
        "colab": {
          "base_uri": "https://localhost:8080/"
        },
        "id": "lkNQmh4bUOWj",
        "outputId": "6094aee2-1aea-424b-b8c9-4b97d34e471b"
      },
      "execution_count": 2,
      "outputs": [
        {
          "output_type": "stream",
          "name": "stdout",
          "text": [
            "hello world!\n"
          ]
        }
      ]
    },
    {
      "cell_type": "code",
      "source": [
        "## 2.  Write a Python program that displays your name and age\n",
        "\n",
        "name = \"hezlin\"\n",
        "age = 8\n",
        "\n",
        "print(\"Name:\", name)\n",
        "print(\"Age:\", age)"
      ],
      "metadata": {
        "colab": {
          "base_uri": "https://localhost:8080/"
        },
        "id": "lP5cWxTEUgWz",
        "outputId": "e3a31553-1dde-45ca-9dd3-81dd2b80998f"
      },
      "execution_count": 3,
      "outputs": [
        {
          "output_type": "stream",
          "name": "stdout",
          "text": [
            "Name: hezlin\n",
            "Age: 8\n"
          ]
        }
      ]
    },
    {
      "cell_type": "code",
      "source": [
        "## 3. Write code to print all the pre-defined keywords in Python using the keyword library\n",
        "\n",
        "import keyword\n",
        "\n",
        "print(keyword.kwlist)"
      ],
      "metadata": {
        "colab": {
          "base_uri": "https://localhost:8080/"
        },
        "id": "zULnYt54VCZv",
        "outputId": "a832482b-f72b-4ddb-a459-3b8016716c3f"
      },
      "execution_count": 4,
      "outputs": [
        {
          "output_type": "stream",
          "name": "stdout",
          "text": [
            "['False', 'None', 'True', 'and', 'as', 'assert', 'async', 'await', 'break', 'class', 'continue', 'def', 'del', 'elif', 'else', 'except', 'finally', 'for', 'from', 'global', 'if', 'import', 'in', 'is', 'lambda', 'nonlocal', 'not', 'or', 'pass', 'raise', 'return', 'try', 'while', 'with', 'yield']\n"
          ]
        }
      ]
    },
    {
      "cell_type": "code",
      "source": [
        "## 4. Write a program that checks if a given word is a Python keyword.\n",
        "\n",
        "import keyword\n",
        "\n",
        "# Ask the user to input a word\n",
        "word = input(\"Enter a word to check if it's a Python keyword: \")\n",
        "\n",
        "# Check if the word is a keyword\n",
        "if keyword.iskeyword(word):\n",
        "    print(f\"'{word}' is a Python keyword.\")\n",
        "else:\n",
        "    print(f\"'{word}' is NOT a Python keyword.\")\n"
      ],
      "metadata": {
        "colab": {
          "base_uri": "https://localhost:8080/"
        },
        "id": "V-2x-1CKV3Fm",
        "outputId": "6f15e784-a904-4e15-824a-f62e83395492"
      },
      "execution_count": 6,
      "outputs": [
        {
          "output_type": "stream",
          "name": "stdout",
          "text": [
            "Enter a word to check if it's a Python keyword: elif\n",
            "'elif' is a Python keyword.\n"
          ]
        }
      ]
    },
    {
      "cell_type": "code",
      "source": [
        "## 5.  Create a list and tuple in Python, and demonstrate how attempting to change an element works differently for each.\n",
        "\n",
        "# Creating a list and a tuple\n",
        "my_list = [10, 20, 30]\n",
        "my_tuple = (10, 20, 30)\n",
        "\n",
        "# Changing an element in the list\n",
        "my_list[1] = 99\n",
        "print(\"Modified list:\", my_list)\n",
        "\n",
        "# Attempting to change an element in the tuple\n",
        "try:\n",
        "    my_tuple[1] = 99\n",
        "except TypeError as e:\n",
        "    print(\"Error when modifying tuple:\", e)\n"
      ],
      "metadata": {
        "colab": {
          "base_uri": "https://localhost:8080/"
        },
        "id": "k7qRUG1nWY_G",
        "outputId": "b00a8871-172e-4f9d-c16a-1a3501e8ca0d"
      },
      "execution_count": 11,
      "outputs": [
        {
          "output_type": "stream",
          "name": "stdout",
          "text": [
            "Modified list: [10, 99, 30]\n",
            "Error when modifying tuple: 'tuple' object does not support item assignment\n"
          ]
        }
      ]
    },
    {
      "cell_type": "code",
      "source": [
        "## 6. Write a function to demonstrate the behavior of mutable and immutable arguments.\n",
        "\n",
        "def modify_args(num, lst):\n",
        "    # Attempt to modify the immutable integer\n",
        "    num += 10\n",
        "    # Modify the mutable list\n",
        "    lst.append(100)\n",
        "    print(\"Inside function - num:\", num)\n",
        "    print(\"Inside function - lst:\", lst)\n",
        "\n",
        "# Immutable argument\n",
        "number = 5\n",
        "# Mutable argument\n",
        "my_list = [1, 2, 3]\n",
        "\n",
        "print(\"Before function call - number:\", number)\n",
        "print(\"Before function call - my_list:\", my_list)\n",
        "\n",
        "modify_args(number, my_list)\n",
        "\n",
        "print(\"After function call - number:\", number)\n",
        "print(\"After function call - my_list:\", my_list)\n"
      ],
      "metadata": {
        "colab": {
          "base_uri": "https://localhost:8080/"
        },
        "id": "VQO15HNhXHPl",
        "outputId": "0bd40d41-206c-420c-b792-79bc7951fda5"
      },
      "execution_count": 12,
      "outputs": [
        {
          "output_type": "stream",
          "name": "stdout",
          "text": [
            "Before function call - number: 5\n",
            "Before function call - my_list: [1, 2, 3]\n",
            "Inside function - num: 15\n",
            "Inside function - lst: [1, 2, 3, 100]\n",
            "After function call - number: 5\n",
            "After function call - my_list: [1, 2, 3, 100]\n"
          ]
        }
      ]
    },
    {
      "cell_type": "code",
      "source": [
        "## 7. Write a program that performs basic arithmetic operations on two user-input numbers\n",
        "\n",
        "def add(x, y):\n",
        "    \"\"\"Performs addition of two numbers.\"\"\"\n",
        "    return x + y\n",
        "\n",
        "def subtract(x, y):\n",
        "    \"\"\"Performs subtraction of two numbers.\"\"\"\n",
        "    return x - y\n",
        "\n",
        "def multiply(x, y):\n",
        "    \"\"\"Performs multiplication of two numbers.\"\"\"\n",
        "    return x * y\n",
        "\n",
        "def divide(x, y):\n",
        "    \"\"\"Performs division of two numbers. Handles division by zero.\"\"\"\n",
        "    if y == 0:\n",
        "        return \"Error: Cannot divide by zero.\"\n",
        "    else:\n",
        "        return x / y\n",
        "\n",
        "# Get input from the user\n",
        "num1 = float(input(\"Enter the first number: \"))\n",
        "num2 = float(input(\"Enter the second number: \"))\n",
        "\n",
        "# Perform and display the operations\n",
        "print(\"Addition:\", add(num1, num2))\n",
        "print(\"Subtraction:\", subtract(num1, num2))\n",
        "print(\"Multiplication:\", multiply(num1, num2))\n",
        "print(\"Division:\", divide(num1, num2))"
      ],
      "metadata": {
        "colab": {
          "base_uri": "https://localhost:8080/"
        },
        "id": "kP8HIO-bYGAe",
        "outputId": "48cd31ad-e565-472a-e4ab-5c5df46c530a"
      },
      "execution_count": 13,
      "outputs": [
        {
          "output_type": "stream",
          "name": "stdout",
          "text": [
            "Enter the first number: 5\n",
            "Enter the second number: 9\n",
            "Addition: 14.0\n",
            "Subtraction: -4.0\n",
            "Multiplication: 45.0\n",
            "Division: 0.5555555555555556\n"
          ]
        }
      ]
    },
    {
      "cell_type": "code",
      "source": [
        "## 8. Write a program to demonstrate the use of logical operators.\n",
        "\n",
        "# Sample values\n",
        "a = True\n",
        "b = False\n",
        "\n",
        "print(\"a and b:\", a and b)  # True only if both a and b are True\n",
        "print(\"a or b:\", a or b)    # True if either a or b is True\n",
        "print(\"not a:\", not a)      # True if a is False, otherwise False\n",
        "print(\"not b:\", not b)      # True if b is False, otherwise False\n",
        "\n",
        "# Using logical operators with conditions\n",
        "x = 8\n",
        "y = 15\n",
        "\n",
        "if x > 5 and y < 20:\n",
        "    print(\"Both conditions are True\")\n",
        "\n",
        "if x > 10 or y > 10:\n",
        "    print(\"At least one condition is True\")\n",
        "\n",
        "if not (x == y):\n",
        "    print(\"x is not equal to y\")\n"
      ],
      "metadata": {
        "colab": {
          "base_uri": "https://localhost:8080/"
        },
        "id": "4NVzez-PZxHl",
        "outputId": "2759b0ca-8b50-4445-fdfd-d0c330c81a48"
      },
      "execution_count": 14,
      "outputs": [
        {
          "output_type": "stream",
          "name": "stdout",
          "text": [
            "a and b: False\n",
            "a or b: True\n",
            "not a: False\n",
            "not b: True\n",
            "Both conditions are True\n",
            "At least one condition is True\n",
            "x is not equal to y\n"
          ]
        }
      ]
    },
    {
      "cell_type": "code",
      "source": [
        "## 9. Write a Python program to convert user input from string to integer, float, and boolean types\n",
        "\n",
        "# Get input from user\n",
        "text = input(\"Enter something: \")\n",
        "\n",
        "# Convert to integer\n",
        "try:\n",
        "    number = int(text)\n",
        "    print(\"Integer:\", number)\n",
        "except:\n",
        "    print(\"Can't convert to integer.\")\n",
        "\n",
        "# Convert to float\n",
        "try:\n",
        "    decimal = float(text)\n",
        "    print(\"Float:\", decimal)\n",
        "except:\n",
        "    print(\"Can't convert to float.\")\n",
        "\n",
        "# Convert to boolean\n",
        "# If input is empty, it's False; otherwise, True\n",
        "bool_value = bool(text)\n",
        "print(\"Boolean:\", bool_value)\n"
      ],
      "metadata": {
        "colab": {
          "base_uri": "https://localhost:8080/"
        },
        "id": "OFzGhTkDbQLw",
        "outputId": "b29d14a2-9ac3-4e13-e57e-6300886e249c"
      },
      "execution_count": 15,
      "outputs": [
        {
          "output_type": "stream",
          "name": "stdout",
          "text": [
            "Enter something: 12\n",
            "Integer: 12\n",
            "Float: 12.0\n",
            "Boolean: True\n"
          ]
        }
      ]
    },
    {
      "cell_type": "code",
      "source": [
        "## 10. Write code to demonstrate type casting with list elements\n",
        "\n",
        "# List of string numbers\n",
        "str_list = ['1', '2', '3', '4']\n",
        "\n",
        "# Convert each element to integer\n",
        "int_list = [int(item) for item in str_list]\n",
        "print(\"Integer list:\", int_list)\n",
        "\n",
        "# Convert each element to float\n",
        "float_list = [float(item) for item in str_list]\n",
        "print(\"Float list:\", float_list)\n",
        "\n",
        "# Convert each element to boolean\n",
        "bool_list = [bool(item) for item in str_list]\n",
        "print(\"Boolean list:\", bool_list)\n"
      ],
      "metadata": {
        "colab": {
          "base_uri": "https://localhost:8080/"
        },
        "id": "iarH9OBEb5HH",
        "outputId": "d5f32708-56df-403d-cf12-78d3bc9a5344"
      },
      "execution_count": 16,
      "outputs": [
        {
          "output_type": "stream",
          "name": "stdout",
          "text": [
            "Integer list: [1, 2, 3, 4]\n",
            "Float list: [1.0, 2.0, 3.0, 4.0]\n",
            "Boolean list: [True, True, True, True]\n"
          ]
        }
      ]
    },
    {
      "cell_type": "code",
      "source": [
        "## 11. Write a program that checks if a number is positive, negative, or zero\n",
        "\n",
        "# Get input from the user\n",
        "num = float(input(\"Enter a number: \"))\n",
        "\n",
        "# Check the number\n",
        "if num > 0:\n",
        "    print(\"The number is positive.\")\n",
        "elif num < 0:\n",
        "    print(\"The number is negative.\")\n",
        "else:\n",
        "    print(\"The number is zero.\")\n"
      ],
      "metadata": {
        "colab": {
          "base_uri": "https://localhost:8080/"
        },
        "id": "mSCRj_Vlch0o",
        "outputId": "29ff830b-e2e0-430a-ed1f-2ade34558faa"
      },
      "execution_count": 17,
      "outputs": [
        {
          "output_type": "stream",
          "name": "stdout",
          "text": [
            "Enter a number: 30\n",
            "The number is positive.\n"
          ]
        }
      ]
    },
    {
      "cell_type": "code",
      "source": [
        "## 12. Write a for loop to print numbers from 1 to 10.\n",
        "\n",
        "for i in range(1, 11):\n",
        "    print(i)\n"
      ],
      "metadata": {
        "colab": {
          "base_uri": "https://localhost:8080/"
        },
        "id": "RGd78YObcxRi",
        "outputId": "b5bf4c85-7a27-4de3-f007-57630c6ef882"
      },
      "execution_count": 18,
      "outputs": [
        {
          "output_type": "stream",
          "name": "stdout",
          "text": [
            "1\n",
            "2\n",
            "3\n",
            "4\n",
            "5\n",
            "6\n",
            "7\n",
            "8\n",
            "9\n",
            "10\n"
          ]
        }
      ]
    },
    {
      "cell_type": "code",
      "source": [
        "## 13.  Write a Python program to find the sum of all even numbers between 1 and 50\n",
        "\n",
        "# Initialize sum\n",
        "total = 0\n",
        "\n",
        "# Loop through numbers from 1 to 50\n",
        "for i in range(1, 51):\n",
        "    if i % 2 == 0:\n",
        "        total += i\n",
        "\n",
        "# Print the result\n",
        "print(\"Sum of even numbers from 1 to 50 is:\", total)\n"
      ],
      "metadata": {
        "colab": {
          "base_uri": "https://localhost:8080/"
        },
        "id": "3oW0xgTgdIkf",
        "outputId": "0c9427fd-0b90-48b7-b3a6-14fef0f8d135"
      },
      "execution_count": 19,
      "outputs": [
        {
          "output_type": "stream",
          "name": "stdout",
          "text": [
            "Sum of even numbers from 1 to 50 is: 650\n"
          ]
        }
      ]
    },
    {
      "cell_type": "code",
      "source": [
        "## 14.  Write a program to reverse a string using a while loop\n",
        "\n",
        "text = input(\"Enter a string: \")\n",
        "\n",
        "i = len(text) - 1\n",
        "reversed_text = \"\"\n",
        "\n",
        "while i >= 0:\n",
        "    reversed_text += text[i]\n",
        "    i -= 1\n",
        "\n",
        "print(\"Reversed string:\", reversed_text)\n"
      ],
      "metadata": {
        "colab": {
          "base_uri": "https://localhost:8080/"
        },
        "id": "89r4uQyCde-O",
        "outputId": "0634de5e-f017-43a6-e81e-12646cee2a27"
      },
      "execution_count": 20,
      "outputs": [
        {
          "output_type": "stream",
          "name": "stdout",
          "text": [
            "Enter a string: pwskills\n",
            "Reversed string: sllikswp\n"
          ]
        }
      ]
    },
    {
      "cell_type": "code",
      "source": [
        "## 15.  Write a Python program to calculate the factorial of a number provided by the user using a while loop\n",
        "\n",
        "# Get input from the user\n",
        "num = int(input(\"Enter a number: \"))\n",
        "\n",
        "# Initialize variables\n",
        "factorial = 1\n",
        "i = 1\n",
        "\n",
        "# Calculate factorial using while loop\n",
        "while i <= num:\n",
        "    factorial *= i\n",
        "    i += 1\n",
        "\n",
        "# Print the result\n",
        "print(\"Factorial of\", num, \"is:\", factorial)\n"
      ],
      "metadata": {
        "colab": {
          "base_uri": "https://localhost:8080/"
        },
        "id": "8z1Fodnkdzwv",
        "outputId": "054e4178-ce48-42d9-c8a0-6958882afbfc"
      },
      "execution_count": 21,
      "outputs": [
        {
          "output_type": "stream",
          "name": "stdout",
          "text": [
            "Enter a number: 45\n",
            "Factorial of 45 is: 119622220865480194561963161495657715064383733760000000000\n"
          ]
        }
      ]
    },
    {
      "cell_type": "code",
      "source": [],
      "metadata": {
        "id": "eMNJ_ZD2eGoc"
      },
      "execution_count": null,
      "outputs": []
    }
  ]
}